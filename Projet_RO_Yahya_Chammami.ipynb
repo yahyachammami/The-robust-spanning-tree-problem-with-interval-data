{
  "nbformat": 4,
  "nbformat_minor": 0,
  "metadata": {
    "colab": {
      "provenance": []
    },
    "kernelspec": {
      "name": "python3",
      "display_name": "Python 3"
    },
    "language_info": {
      "name": "python"
    }
  },
  "cells": [
    {
      "cell_type": "markdown",
      "source": [
        "# Projet Recherche operationnelle\n",
        "\n",
        "## **The Robust Spanning Tree Problem With Interval Data**\n",
        "\n",
        "### Yahya Chammami"
      ],
      "metadata": {
        "id": "5xuz6wcKSVu_"
      }
    },
    {
      "cell_type": "markdown",
      "source": [
        "**A mixed integer programming formulation**"
      ],
      "metadata": {
        "id": "86AcPFqKBLj_"
      }
    },
    {
      "cell_type": "markdown",
      "source": [
        "\\begin{align*}\n",
        "\\text{minimize} \\quad & \\sum_{e \\in E} c_e \\cdot x_e \\\\\n",
        "\\text{subject to} \\quad & \\sum_{(i, j) \\in A} f_{ij} - \\sum_{(j, i) \\in A} f_{ji} = \\begin{cases}\n",
        "n - 1 & \\text{if } i = 1 \\\\\n",
        "-1 & \\forall i \\in V \\setminus \\{1\\} \\\\\n",
        "\\end{cases} \\\\\n",
        "& f_{ij} \\leq (n - 1) x_{ij} \\quad \\forall \\{i, j\\} \\in E \\\\\n",
        "& f_{ji} \\leq (n - 1) x_{ij} \\quad \\forall \\{i, j\\} \\in E \\\\\n",
        "& \\sum_{e \\in E} x_e = n - 1 \\\\\n",
        "& f_{ij} \\geq 0 \\\\\n",
        "& x_e \\in \\{0, 1\\} \\quad \\forall e \\in E\n",
        "\\end{align*}"
      ],
      "metadata": {
        "id": "7IgJhlz9SV4f"
      }
    },
    {
      "cell_type": "markdown",
      "source": [
        "# Introduction\n",
        "La conception de réseaux robustes dans le domaine des télécommunications et des technologies de l'information est cruciale pour assurer des communications fiables et efficaces.\n",
        "\n",
        " Un défi majeur dans cette conception réside dans la gestion des incertitudes liées aux coûts des liaisons entre les nœuds du réseau. Ces incertitudes peuvent découler de facteurs tels que la variation de la charge de trafic, les fluctuations dans les retards de transmission, ou d'autres sources d'instabilité.\n",
        "\n",
        "Le présent travail explore une approche novatrice pour résoudre le problème de conception d'un réseau robuste, en utilisant la programmation linéaire pour formuler et résoudre le \"Robust Spanning Tree Problem with Interval Data.\" Ce problème cherche à déterminer une structure de réseau robuste, représentée par un arbre de recouvrement, qui minimise les coûts tout en prenant en compte l'incertitude inhérente aux coûts des liaisons."
      ],
      "metadata": {
        "id": "eX5w5mbGStR4"
      }
    },
    {
      "cell_type": "markdown",
      "source": [
        "### Contexte de Résolution :\n",
        "\n",
        "Le \"Robust Spanning Tree Problem with Interval Data\" s'inscrit dans le cadre de deux applications majeures dans l'industrie des télécommunications. Tout d'abord, dans la conception de réseaux de communication, où les retards de routage sur les liaisons ne sont pas connus avec certitude en raison de la nature variable de la charge de trafic. Dans de telles situations, il est essentiel de développer une configuration de réseau qui se prémunit contre les contingences les plus défavorables en termes de retards de routage.\n",
        "\n",
        "En utilisant cette approche, le travail contribue à l'avancement des techniques de conception de réseaux robustes, offrant une méthodologie systématique pour résoudre le problème de l'arbre de recouvrement robuste dans des conditions d'incertitude réalistes. Les résultats obtenus grâce à la résolution du système fournissent des informations cruciales pour la conception de réseaux résilients dans des environnements dynamiques et imprévisibles.\n"
      ],
      "metadata": {
        "id": "3oEzrofOd8W9"
      }
    },
    {
      "cell_type": "markdown",
      "source": [
        "#### **importation des libraries**"
      ],
      "metadata": {
        "id": "UMQEfo3vdxue"
      }
    },
    {
      "cell_type": "code",
      "source": [
        "import numpy as np\n",
        "from scipy.optimize import linprog"
      ],
      "metadata": {
        "id": "gXF2M1btcd6_"
      },
      "execution_count": 16,
      "outputs": []
    },
    {
      "cell_type": "markdown",
      "source": [
        "**Fonction Objectif**\n",
        "\n",
        "Minimiser la somme des coûts pondérés des arêtes sélectionnées. La fonction objectif vise à trouver la solution qui optimise le coût total de la conception du réseau."
      ],
      "metadata": {
        "id": "SoX3UXZTCSFI"
      }
    },
    {
      "cell_type": "markdown",
      "source": [
        "\\begin{align*}\n",
        "\\text{Min}\\quad & \\sum_{e \\in E} c_e \\cdot x_e\n",
        "\\\n",
        "\\end{align*}"
      ],
      "metadata": {
        "id": "FeKxGQt4AnJ_"
      }
    },
    {
      "cell_type": "code",
      "source": [
        "# Nombre de nœuds\n",
        "n = 5\n",
        "\n",
        "# Générer des coûts aléatoires pour chaque arête\n",
        "c_edges = np.random.rand(n, n)\n",
        "\n",
        "# Générer une matrice d'incidence orientée aléatoire\n",
        "A = np.random.randint(0, 2, size=(n, n))\n",
        "\n",
        "# Définir la fonction objectif pour minimiser la somme des coûts\n",
        "c = c_edges.flatten()\n",
        "\n",
        "A"
      ],
      "metadata": {
        "id": "Bsgwm0V5m4bW",
        "colab": {
          "base_uri": "https://localhost:8080/"
        },
        "outputId": "b542faac-8179-41c2-b562-a8a8f9164e63"
      },
      "execution_count": 17,
      "outputs": [
        {
          "output_type": "execute_result",
          "data": {
            "text/plain": [
              "array([[1, 0, 1, 0, 1],\n",
              "       [1, 0, 1, 1, 0],\n",
              "       [1, 1, 0, 1, 0],\n",
              "       [1, 1, 0, 1, 1],\n",
              "       [1, 1, 0, 0, 1]])"
            ]
          },
          "metadata": {},
          "execution_count": 17
        }
      ]
    },
    {
      "cell_type": "markdown",
      "source": [
        "**Conservation du Flux** :\n",
        "\n",
        "\n",
        "Cette contrainte garantit que, pour chaque nœud du réseau, la quantité totale de flux entrant est égale à la quantité totale de flux sortant. Cela assure l'équilibre du flux à chaque nœud, préservant ainsi la cohérence du réseau.\n",
        "\n",
        "\n",
        "\\begin{align*}\n",
        "\\\\\n",
        "\\quad & \\sum_{(i, j) \\in A} f_{ij} - \\sum_{(j, i) \\in A} f_{ji} = \\begin{cases}\n",
        "n - 1 & \\text{if } i = 1 \\\\\n",
        "-1 & \\forall i \\in V \\setminus \\{1\\}\n",
        "\\end{cases}\n",
        "\\end{align*}\n",
        "\n"
      ],
      "metadata": {
        "id": "aGLEXh8HBW1n"
      }
    },
    {
      "cell_type": "code",
      "source": [
        "# Définir les contraintes d'équilibre du flux\n",
        "A_eq = []\n",
        "b_eq = []\n",
        "\n",
        "for i in range(1, n):\n",
        "    row = np.zeros(n**2)\n",
        "    row[(i-1)*n:i*n] = 1  # Flux sortant de i\n",
        "    row[i-1::n] = -1     # Flux entrant à i\n",
        "    A_eq.append(row)\n",
        "    b_eq.append(-1 if i != 1 else n - 1)\n",
        "\n",
        "A_eq = np.array(A_eq)\n",
        "b_eq = np.array(b_eq)\n"
      ],
      "metadata": {
        "id": "NUEIAxQ0m4d1"
      },
      "execution_count": 18,
      "outputs": []
    },
    {
      "cell_type": "markdown",
      "source": [
        "**Capacité de Flux** :\n",
        "\n",
        " Cette contrainte définit la capacité maximale de chaque arête en fonction de sa sélection. Si une arête est sélectionnée (Xij=1)   le flux sur cette arête (Fij) ne peut pas dépasser une certaine limite. Cela garantit que les flux sont conformes aux capacités des arêtes.\n",
        "\n",
        " \\begin{align*}\n",
        "\\\n",
        "& f_{ij} \\leq (n - 1) x_{ij} \\quad \\forall \\{i, j\\} \\in E \\\\\n",
        "& f_{ji} \\leq (n - 1) x_{ij} \\quad \\forall \\{i, j\\} \\in E \\\\\n",
        "\\\n",
        "\\end{align*}"
      ],
      "metadata": {
        "id": "VMB6X6JyBGzp"
      }
    },
    {
      "cell_type": "code",
      "source": [
        "# Définir les contraintes de capacité\n",
        "A_leq = []\n",
        "b_leq = []\n",
        "\n",
        "for i in range(n):\n",
        "    for j in range(n):\n",
        "        if A[i, j] == 1:\n",
        "            row = np.zeros(n**2)\n",
        "            row[i*n + j] = -(n - 1)\n",
        "            A_leq.append(row)\n",
        "            b_leq.append(0)\n",
        "\n",
        "A_leq = np.array(A_leq)\n",
        "b_leq = np.array(b_leq)"
      ],
      "metadata": {
        "id": "CdnajyvOKqXP"
      },
      "execution_count": 19,
      "outputs": []
    },
    {
      "cell_type": "markdown",
      "source": [
        "**Cardinalité** :\n",
        "\n",
        " Il s'agit d'une contrainte de cardinalité qui stipule que le nombre total d'arêtes sélectionnées doit être égal à (n-1) assurant ainsi la formation d'un arbre de recouvrement.\n",
        "\n",
        "\\begin{align*}\n",
        "\\sum_{e \\in E} x_e = n - 1 \\\\\n",
        "\\\n",
        "\\end{align*}"
      ],
      "metadata": {
        "id": "KfgyTgE3G-se"
      }
    },
    {
      "cell_type": "code",
      "source": [
        "# Définir la contrainte du nombre d'arêtes sélectionnées\n",
        "A_eq_edges = np.ones((1, n**2))\n",
        "b_eq_edges = n - 1"
      ],
      "metadata": {
        "id": "kqByR845K0fI"
      },
      "execution_count": 20,
      "outputs": []
    },
    {
      "cell_type": "markdown",
      "source": [
        "**Non-négativité des Flux**  :\n",
        "\n",
        "Les flux sur chaque arête (Fij) doivent être non négatifs, ce qui est une condition réaliste pour les quantités de flux physiques.\n",
        "\n",
        "\\begin{align*}\n",
        "\\\n",
        "& f_{ij} \\geq 0 \\\\\n",
        "\\\n",
        "\\end{align*}"
      ],
      "metadata": {
        "id": "aK2w1I9kGdKO"
      }
    },
    {
      "cell_type": "markdown",
      "source": [
        "**Binarité des Variables de Sélection**  :\n",
        "\n",
        "Les variables de sélection des arêtes Xe sont binaires, ce qui signifie qu'une arête est soit sélectionnée (Xe=1) soit non sélectionnée (Xe=0) Cela reflète le caractère discret de la décision d'inclure ou non une arête dans l'arbre de recouvrement.\n",
        "\n",
        "\\begin{align*}\n",
        "\\\n",
        "& x_e \\in \\{0, 1\\} \\quad \\forall e \\in E\n",
        "\\end{align*}\n",
        "\n",
        "\n"
      ],
      "metadata": {
        "id": "ObcDLT-5DKsf"
      }
    },
    {
      "cell_type": "code",
      "source": [
        "# Définir Binarité pour les variables\n",
        "bounds = [(0, None) for _ in range(n**2)]\n"
      ],
      "metadata": {
        "id": "ACYPmQLVTEWV"
      },
      "execution_count": 21,
      "outputs": []
    },
    {
      "cell_type": "markdown",
      "source": [
        "**Resolution de systeme**"
      ],
      "metadata": {
        "id": "wFTFzy9HLe9f"
      }
    },
    {
      "cell_type": "code",
      "source": [
        "# Résoudre le problème d'optimisation linéaire\n",
        "result = linprog(c, A_eq=A_eq, b_eq=b_eq, A_ub=A_leq, b_ub=b_leq, bounds=bounds, method='highs')\n",
        "\n",
        "# Afficher les résultats\n",
        "print(\"Solution optimale:\")\n",
        "print(result.x.reshape((n, n)))\n",
        "print(\"Coût optimal:\", result.fun)\n"
      ],
      "metadata": {
        "id": "PmKvjxhhvbtC",
        "colab": {
          "base_uri": "https://localhost:8080/"
        },
        "outputId": "3d6e8598-6fc0-4e69-eba3-1abad523c00a"
      },
      "execution_count": 22,
      "outputs": [
        {
          "output_type": "stream",
          "name": "stdout",
          "text": [
            "Solution optimale:\n",
            "[[0. 1. 1. 1. 1.]\n",
            " [0. 0. 0. 0. 0.]\n",
            " [0. 0. 0. 0. 0.]\n",
            " [0. 0. 0. 0. 0.]\n",
            " [0. 0. 0. 0. 0.]]\n",
            "Coût optimal: 2.209914655662711\n"
          ]
        }
      ]
    },
    {
      "cell_type": "markdown",
      "source": [
        "## Conclusion :\n",
        "\n",
        "La solution optimale montre qu'un arbre couvrant optimal a été trouvé. Seules les arêtes (1, 2), (1, 3), (1, 4), et (1, 5) sont incluses dans cet arbre. Les autres arêtes ont une valeur de \"0\", indiquant qu'elles ne font pas partie de l'arbre couvrant optimal.\n",
        "\n",
        "Le coût optimal associé à cette solution est d'environ 2.209. Cela représente la somme des coûts des arêtes incluses dans l'arbre couvrant optimal.\n",
        "\n",
        "Cette solution offre des perspectives pratiques pour la conception de réseaux robustes dans des environnements sujets à des variations de coûts et de délais. La sélection stratégique des arêtes dans des conditions d'incertitude contribue à la création de réseaux résilients, capables de faire face aux pires scénarios de contingence.\n",
        "\n",
        "En conclusion, ce projet apporte une contribution significative à la conception de réseaux robustes et ouvre des pistes pour des applications pratiques dans le domaine des télécommunications et au-delà. Les résultats obtenus fournissent des bases solides pour la prise de décisions éclairées dans des environnements dynamiques et incertains."
      ],
      "metadata": {
        "id": "jwQOhYu3hyEt"
      }
    },
    {
      "cell_type": "code",
      "source": [],
      "metadata": {
        "id": "GPTTwIHyWNRW"
      },
      "execution_count": null,
      "outputs": []
    }
  ]
}